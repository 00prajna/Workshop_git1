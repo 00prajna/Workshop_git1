{
 "cells": [
  {
   "cell_type": "code",
   "execution_count": 1,
   "metadata": {},
   "outputs": [
    {
     "name": "stdout",
     "output_type": "stream",
     "text": [
      "name:hi\n"
     ]
    }
   ],
   "source": [
    "a=input(\"name:\")"
   ]
  },
  {
   "cell_type": "code",
   "execution_count": 9,
   "metadata": {},
   "outputs": [
    {
     "name": "stdout",
     "output_type": "stream",
     "text": [
      "Enter your name...5\n"
     ]
    }
   ],
   "source": [
    "a=int(input(\"Enter your name...\"))"
   ]
  },
  {
   "cell_type": "code",
   "execution_count": 10,
   "metadata": {},
   "outputs": [
    {
     "name": "stdout",
     "output_type": "stream",
     "text": [
      "4\n"
     ]
    }
   ],
   "source": [
    "a=2\n",
    "if(a==2):\n",
    "    print(2+2)\n",
    "elif(a==3):\n",
    "    print(3)\n",
    "elif(a==4):\n",
    "    print(4)\n",
    "else:\n",
    "    print(5)"
   ]
  },
  {
   "cell_type": "code",
   "execution_count": 5,
   "metadata": {},
   "outputs": [
    {
     "name": "stdout",
     "output_type": "stream",
     "text": [
      "Enter a number5\n",
      "false\n",
      "the type of a is <class 'str'>\n",
      "the type of b is <class 'bool'>\n",
      "the type of c is <class 'int'>\n"
     ]
    }
   ],
   "source": [
    "a=\"HI\"\n",
    "b=True\n",
    "c=20\n",
    "d=None\n",
    "e=int(input(\"Enter a number\"))\n",
    "if(e==1):\n",
    "    print(\"true\")\n",
    "else:\n",
    "    print(\"false\")\n",
    "print(\"the type of a is\",type(a))\n",
    "print(\"the type of b is\",type(b))\n",
    "print(\"the type of c is\",type(c))\n",
    "\n"
   ]
  },
  {
   "cell_type": "code",
   "execution_count": 7,
   "metadata": {},
   "outputs": [
    {
     "name": "stdout",
     "output_type": "stream",
     "text": [
      "indented\n"
     ]
    }
   ],
   "source": [
    "print(\"indented\")"
   ]
  },
  {
   "cell_type": "code",
   "execution_count": 10,
   "metadata": {},
   "outputs": [
    {
     "name": "stdout",
     "output_type": "stream",
     "text": [
      "enter first number4\n",
      "enter second number5\n",
      "enter the operator+\n",
      "addition of a and b 9\n"
     ]
    }
   ],
   "source": [
    "a=int(input(\"enter first number\"))\n",
    "b=int(input(\"enter second number\"))\n",
    "c=input(\"enter the operator\")\n",
    "if c=='+':\n",
    "    print(\"addition of a and b\",a+b)\n",
    "elif c=='-':\n",
    "    print(f\"subtraction of {a} and {b} is {a-b}\")\n",
    "elif c=='*':\n",
    "    print(\"multiplication of a and b\",a*b)\n",
    "elif c=='/':\n",
    "    print(\"division of a and b\",a/b)\n",
    "else:\n",
    "    print(\"invalid op\")"
   ]
  },
  {
   "cell_type": "code",
   "execution_count": null,
   "metadata": {
    "collapsed": true
   },
   "outputs": [],
   "source": []
  },
  {
   "cell_type": "code",
   "execution_count": null,
   "metadata": {
    "collapsed": true
   },
   "outputs": [],
   "source": []
  }
 ],
 "metadata": {
  "kernelspec": {
   "display_name": "Python 3",
   "language": "python",
   "name": "python3"
  },
  "language_info": {
   "codemirror_mode": {
    "name": "ipython",
    "version": 3
   },
   "file_extension": ".py",
   "mimetype": "text/x-python",
   "name": "python",
   "nbconvert_exporter": "python",
   "pygments_lexer": "ipython3",
   "version": "3.6.3"
  }
 },
 "nbformat": 4,
 "nbformat_minor": 2
}
